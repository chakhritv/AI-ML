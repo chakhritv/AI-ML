{
  "nbformat": 4,
  "nbformat_minor": 0,
  "metadata": {
    "colab": {
      "name": "Python Lesseon 1.ipynb",
      "provenance": [],
      "authorship_tag": "ABX9TyMwiiK0blQiirPY7IvOH3l8",
      "include_colab_link": true
    },
    "kernelspec": {
      "name": "python3",
      "display_name": "Python 3"
    },
    "language_info": {
      "name": "python"
    }
  },
  "cells": [
    {
      "cell_type": "markdown",
      "metadata": {
        "id": "view-in-github",
        "colab_type": "text"
      },
      "source": [
        "<a href=\"https://colab.research.google.com/github/chakhritv/AI-ML/blob/main/Python_Lesseon_1.ipynb\" target=\"_parent\"><img src=\"https://colab.research.google.com/assets/colab-badge.svg\" alt=\"Open In Colab\"/></a>"
      ]
    },
    {
      "cell_type": "code",
      "metadata": {
        "id": "na6-7IyzXHoQ",
        "colab": {
          "base_uri": "https://localhost:8080/"
        },
        "outputId": "2552983d-5210-419d-a5be-41c1e25c47f9"
      },
      "source": [
        "print(1+1+1*0)\n",
        "print(1+1+(1*0))\n",
        "print((1+1+1)*0)\n",
        "print(1+(1+1)*0)"
      ],
      "execution_count": 1,
      "outputs": [
        {
          "output_type": "stream",
          "name": "stdout",
          "text": [
            "2\n",
            "2\n",
            "0\n",
            "1\n"
          ]
        }
      ]
    },
    {
      "cell_type": "code",
      "metadata": {
        "id": "8sx06pCVX6ab"
      },
      "source": [
        "x = input()\n",
        "print(x)"
      ],
      "execution_count": null,
      "outputs": []
    },
    {
      "cell_type": "code",
      "metadata": {
        "id": "A97-UgmtX-le"
      },
      "source": [
        "score = float(input(\"Exter your score = \"))\n",
        "score = score + 10\n",
        "print(\"Score is \",score,\"points\")"
      ],
      "execution_count": null,
      "outputs": []
    }
  ]
}